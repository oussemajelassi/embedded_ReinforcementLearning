{
  "nbformat": 4,
  "nbformat_minor": 0,
  "metadata": {
    "colab": {
      "provenance": [],
      "authorship_tag": "ABX9TyPYysVBfQ/80Lxz5nbU6Nsu",
      "include_colab_link": true
    },
    "kernelspec": {
      "name": "python3",
      "display_name": "Python 3"
    },
    "language_info": {
      "name": "python"
    }
  },
  "cells": [
    {
      "cell_type": "markdown",
      "metadata": {
        "id": "view-in-github",
        "colab_type": "text"
      },
      "source": [
        "<a href=\"https://colab.research.google.com/github/oussemajelassi/embedded_ReinforcementLearning/blob/main/RL_RobotOrientation.ipynb\" target=\"_parent\"><img src=\"https://colab.research.google.com/assets/colab-badge.svg\" alt=\"Open In Colab\"/></a>"
      ]
    },
    {
      "cell_type": "markdown",
      "source": [
        "# This project aims to perform robot orientation using RL"
      ],
      "metadata": {
        "id": "iyZk28jsoCfl"
      }
    },
    {
      "cell_type": "code",
      "source": [
        "# Install required modules\n",
        "!python -m pip install gymnasium==0.28.1\n",
        "!python -m pip install stable-baselines3[extra]==2.1.0\n",
        "!python -m pip install pyserial"
      ],
      "metadata": {
        "colab": {
          "base_uri": "https://localhost:8080/"
        },
        "id": "LIyKCqsSoqm6",
        "outputId": "8b3847c2-d036-4aaa-d1e0-a53ddbf48a16"
      },
      "execution_count": null,
      "outputs": [
        {
          "output_type": "stream",
          "name": "stdout",
          "text": [
            "Requirement already satisfied: gymnasium==0.28.1 in c:\\users\\ousjl\\appdata\\local\\programs\\python\\python38\\lib\\site-packages (0.28.1)\n",
            "Requirement already satisfied: numpy>=1.21.0 in c:\\users\\ousjl\\appdata\\local\\programs\\python\\python38\\lib\\site-packages (from gymnasium==0.28.1) (1.23.4)\n",
            "Requirement already satisfied: jax-jumpy>=1.0.0 in c:\\users\\ousjl\\appdata\\local\\programs\\python\\python38\\lib\\site-packages (from gymnasium==0.28.1) (1.0.0)\n",
            "Requirement already satisfied: cloudpickle>=1.2.0 in c:\\users\\ousjl\\appdata\\local\\programs\\python\\python38\\lib\\site-packages (from gymnasium==0.28.1) (3.0.0)\n",
            "Requirement already satisfied: typing-extensions>=4.3.0 in c:\\users\\ousjl\\appdata\\local\\programs\\python\\python38\\lib\\site-packages (from gymnasium==0.28.1) (4.3.0)\n",
            "Requirement already satisfied: farama-notifications>=0.0.1 in c:\\users\\ousjl\\appdata\\local\\programs\\python\\python38\\lib\\site-packages (from gymnasium==0.28.1) (0.0.4)\n",
            "Requirement already satisfied: importlib-metadata>=4.8.0 in c:\\users\\ousjl\\appdata\\local\\programs\\python\\python38\\lib\\site-packages (from gymnasium==0.28.1) (4.12.0)\n",
            "Requirement already satisfied: zipp>=0.5 in c:\\users\\ousjl\\appdata\\local\\programs\\python\\python38\\lib\\site-packages (from importlib-metadata>=4.8.0->gymnasium==0.28.1) (3.8.1)\n"
          ]
        },
        {
          "output_type": "stream",
          "name": "stderr",
          "text": [
            "WARNING: Ignoring invalid distribution -illow (c:\\users\\ousjl\\appdata\\local\\programs\\python\\python38\\lib\\site-packages)\n",
            "WARNING: Ignoring invalid distribution -illow (c:\\users\\ousjl\\appdata\\local\\programs\\python\\python38\\lib\\site-packages)\n"
          ]
        },
        {
          "output_type": "stream",
          "name": "stdout",
          "text": [
            "Requirement already satisfied: stable-baselines3==2.1.0 in c:\\users\\ousjl\\appdata\\local\\programs\\python\\python38\\lib\\site-packages (from stable-baselines3[extra]==2.1.0) (2.1.0)\n",
            "Requirement already satisfied: gymnasium<0.30,>=0.28.1 in c:\\users\\ousjl\\appdata\\local\\programs\\python\\python38\\lib\\site-packages (from stable-baselines3==2.1.0->stable-baselines3[extra]==2.1.0) (0.28.1)\n",
            "Requirement already satisfied: numpy>=1.20 in c:\\users\\ousjl\\appdata\\local\\programs\\python\\python38\\lib\\site-packages (from stable-baselines3==2.1.0->stable-baselines3[extra]==2.1.0) (1.23.4)\n",
            "Requirement already satisfied: torch>=1.13 in c:\\users\\ousjl\\appdata\\local\\programs\\python\\python38\\lib\\site-packages (from stable-baselines3==2.1.0->stable-baselines3[extra]==2.1.0) (1.13.0)\n",
            "Requirement already satisfied: cloudpickle in c:\\users\\ousjl\\appdata\\local\\programs\\python\\python38\\lib\\site-packages (from stable-baselines3==2.1.0->stable-baselines3[extra]==2.1.0) (3.0.0)\n",
            "Requirement already satisfied: pandas in c:\\users\\ousjl\\appdata\\local\\programs\\python\\python38\\lib\\site-packages (from stable-baselines3==2.1.0->stable-baselines3[extra]==2.1.0) (1.4.3)\n",
            "Requirement already satisfied: matplotlib in c:\\users\\ousjl\\appdata\\local\\programs\\python\\python38\\lib\\site-packages (from stable-baselines3==2.1.0->stable-baselines3[extra]==2.1.0) (3.3.2)\n",
            "Requirement already satisfied: opencv-python in c:\\users\\ousjl\\appdata\\local\\programs\\python\\python38\\lib\\site-packages (from stable-baselines3[extra]==2.1.0) (4.6.0.66)\n",
            "Requirement already satisfied: pygame in c:\\users\\ousjl\\appdata\\local\\programs\\python\\python38\\lib\\site-packages (from stable-baselines3[extra]==2.1.0) (2.5.2)\n",
            "Requirement already satisfied: tensorboard>=2.9.1 in c:\\users\\ousjl\\appdata\\local\\programs\\python\\python38\\lib\\site-packages (from stable-baselines3[extra]==2.1.0) (2.10.1)\n",
            "Requirement already satisfied: psutil in c:\\users\\ousjl\\appdata\\local\\programs\\python\\python38\\lib\\site-packages (from stable-baselines3[extra]==2.1.0) (5.9.1)\n",
            "Requirement already satisfied: tqdm in c:\\users\\ousjl\\appdata\\local\\programs\\python\\python38\\lib\\site-packages (from stable-baselines3[extra]==2.1.0) (4.64.0)\n",
            "Requirement already satisfied: rich in c:\\users\\ousjl\\appdata\\local\\programs\\python\\python38\\lib\\site-packages (from stable-baselines3[extra]==2.1.0) (13.7.0)\n",
            "Requirement already satisfied: shimmy~=1.1.0 in c:\\users\\ousjl\\appdata\\local\\programs\\python\\python38\\lib\\site-packages (from shimmy[atari]~=1.1.0; extra == \"extra\"->stable-baselines3[extra]==2.1.0) (1.1.0)\n",
            "Requirement already satisfied: pillow in c:\\users\\ousjl\\appdata\\local\\programs\\python\\python38\\lib\\site-packages (from stable-baselines3[extra]==2.1.0) (9.3.0)\n",
            "Requirement already satisfied: autorom~=0.6.1 in c:\\users\\ousjl\\appdata\\local\\programs\\python\\python38\\lib\\site-packages (from autorom[accept-rom-license]~=0.6.1; extra == \"extra\"->stable-baselines3[extra]==2.1.0) (0.6.1)\n",
            "Requirement already satisfied: click in c:\\users\\ousjl\\appdata\\local\\programs\\python\\python38\\lib\\site-packages (from autorom~=0.6.1->autorom[accept-rom-license]~=0.6.1; extra == \"extra\"->stable-baselines3[extra]==2.1.0) (8.1.7)\n",
            "Requirement already satisfied: requests in c:\\users\\ousjl\\appdata\\local\\programs\\python\\python38\\lib\\site-packages (from autorom~=0.6.1->autorom[accept-rom-license]~=0.6.1; extra == \"extra\"->stable-baselines3[extra]==2.1.0) (2.28.1)\n",
            "Requirement already satisfied: importlib-resources in c:\\users\\ousjl\\appdata\\local\\programs\\python\\python38\\lib\\site-packages (from autorom~=0.6.1->autorom[accept-rom-license]~=0.6.1; extra == \"extra\"->stable-baselines3[extra]==2.1.0) (5.9.0)\n",
            "Requirement already satisfied: AutoROM.accept-rom-license in c:\\users\\ousjl\\appdata\\local\\programs\\python\\python38\\lib\\site-packages (from autorom[accept-rom-license]~=0.6.1; extra == \"extra\"->stable-baselines3[extra]==2.1.0) (0.6.1)\n",
            "Requirement already satisfied: jax-jumpy>=1.0.0 in c:\\users\\ousjl\\appdata\\local\\programs\\python\\python38\\lib\\site-packages (from gymnasium<0.30,>=0.28.1->stable-baselines3==2.1.0->stable-baselines3[extra]==2.1.0) (1.0.0)\n",
            "Requirement already satisfied: typing-extensions>=4.3.0 in c:\\users\\ousjl\\appdata\\local\\programs\\python\\python38\\lib\\site-packages (from gymnasium<0.30,>=0.28.1->stable-baselines3==2.1.0->stable-baselines3[extra]==2.1.0) (4.3.0)\n",
            "Requirement already satisfied: farama-notifications>=0.0.1 in c:\\users\\ousjl\\appdata\\local\\programs\\python\\python38\\lib\\site-packages (from gymnasium<0.30,>=0.28.1->stable-baselines3==2.1.0->stable-baselines3[extra]==2.1.0) (0.0.4)\n",
            "Requirement already satisfied: importlib-metadata>=4.8.0 in c:\\users\\ousjl\\appdata\\local\\programs\\python\\python38\\lib\\site-packages (from gymnasium<0.30,>=0.28.1->stable-baselines3==2.1.0->stable-baselines3[extra]==2.1.0) (4.12.0)\n",
            "Requirement already satisfied: ale-py~=0.8.1 in c:\\users\\ousjl\\appdata\\local\\programs\\python\\python38\\lib\\site-packages (from shimmy[atari]~=1.1.0; extra == \"extra\"->stable-baselines3[extra]==2.1.0) (0.8.1)\n",
            "Requirement already satisfied: absl-py>=0.4 in c:\\users\\ousjl\\appdata\\local\\programs\\python\\python38\\lib\\site-packages (from tensorboard>=2.9.1->stable-baselines3[extra]==2.1.0) (1.3.0)\n",
            "Requirement already satisfied: grpcio>=1.24.3 in c:\\users\\ousjl\\appdata\\local\\programs\\python\\python38\\lib\\site-packages (from tensorboard>=2.9.1->stable-baselines3[extra]==2.1.0) (1.50.0)\n",
            "Requirement already satisfied: google-auth<3,>=1.6.3 in c:\\users\\ousjl\\appdata\\local\\programs\\python\\python38\\lib\\site-packages (from tensorboard>=2.9.1->stable-baselines3[extra]==2.1.0) (2.14.1)\n",
            "Requirement already satisfied: google-auth-oauthlib<0.5,>=0.4.1 in c:\\users\\ousjl\\appdata\\local\\programs\\python\\python38\\lib\\site-packages (from tensorboard>=2.9.1->stable-baselines3[extra]==2.1.0) (0.4.6)\n",
            "Requirement already satisfied: markdown>=2.6.8 in c:\\users\\ousjl\\appdata\\local\\programs\\python\\python38\\lib\\site-packages (from tensorboard>=2.9.1->stable-baselines3[extra]==2.1.0) (3.4.1)\n",
            "Requirement already satisfied: protobuf<3.20,>=3.9.2 in c:\\users\\ousjl\\appdata\\local\\programs\\python\\python38\\lib\\site-packages (from tensorboard>=2.9.1->stable-baselines3[extra]==2.1.0) (3.19.6)\n",
            "Requirement already satisfied: setuptools>=41.0.0 in c:\\users\\ousjl\\appdata\\local\\programs\\python\\python38\\lib\\site-packages (from tensorboard>=2.9.1->stable-baselines3[extra]==2.1.0) (56.0.0)\n",
            "Requirement already satisfied: tensorboard-data-server<0.7.0,>=0.6.0 in c:\\users\\ousjl\\appdata\\local\\programs\\python\\python38\\lib\\site-packages (from tensorboard>=2.9.1->stable-baselines3[extra]==2.1.0) (0.6.1)\n",
            "Requirement already satisfied: tensorboard-plugin-wit>=1.6.0 in c:\\users\\ousjl\\appdata\\local\\programs\\python\\python38\\lib\\site-packages (from tensorboard>=2.9.1->stable-baselines3[extra]==2.1.0) (1.8.1)\n",
            "Requirement already satisfied: werkzeug>=1.0.1 in c:\\users\\ousjl\\appdata\\local\\programs\\python\\python38\\lib\\site-packages (from tensorboard>=2.9.1->stable-baselines3[extra]==2.1.0) (2.2.2)\n",
            "Requirement already satisfied: wheel>=0.26 in c:\\users\\ousjl\\appdata\\local\\programs\\python\\python38\\lib\\site-packages (from tensorboard>=2.9.1->stable-baselines3[extra]==2.1.0) (0.38.4)\n",
            "Requirement already satisfied: certifi>=2020.06.20 in c:\\users\\ousjl\\appdata\\local\\programs\\python\\python38\\lib\\site-packages (from matplotlib->stable-baselines3==2.1.0->stable-baselines3[extra]==2.1.0) (2022.6.15)\n",
            "Requirement already satisfied: cycler>=0.10 in c:\\users\\ousjl\\appdata\\local\\programs\\python\\python38\\lib\\site-packages (from matplotlib->stable-baselines3==2.1.0->stable-baselines3[extra]==2.1.0) (0.11.0)\n",
            "Requirement already satisfied: kiwisolver>=1.0.1 in c:\\users\\ousjl\\appdata\\local\\programs\\python\\python38\\lib\\site-packages (from matplotlib->stable-baselines3==2.1.0->stable-baselines3[extra]==2.1.0) (1.4.4)\n",
            "Requirement already satisfied: pyparsing!=2.0.4,!=2.1.2,!=2.1.6,>=2.0.3 in c:\\users\\ousjl\\appdata\\local\\programs\\python\\python38\\lib\\site-packages (from matplotlib->stable-baselines3==2.1.0->stable-baselines3[extra]==2.1.0) (3.0.9)\n",
            "Requirement already satisfied: python-dateutil>=2.1 in c:\\users\\ousjl\\appdata\\local\\programs\\python\\python38\\lib\\site-packages (from matplotlib->stable-baselines3==2.1.0->stable-baselines3[extra]==2.1.0) (2.8.2)\n",
            "Requirement already satisfied: pytz>=2020.1 in c:\\users\\ousjl\\appdata\\local\\programs\\python\\python38\\lib\\site-packages (from pandas->stable-baselines3==2.1.0->stable-baselines3[extra]==2.1.0) (2022.2.1)\n",
            "Requirement already satisfied: markdown-it-py>=2.2.0 in c:\\users\\ousjl\\appdata\\local\\programs\\python\\python38\\lib\\site-packages (from rich->stable-baselines3[extra]==2.1.0) (3.0.0)\n",
            "Requirement already satisfied: pygments<3.0.0,>=2.13.0 in c:\\users\\ousjl\\appdata\\local\\programs\\python\\python38\\lib\\site-packages (from rich->stable-baselines3[extra]==2.1.0) (2.13.0)\n",
            "Requirement already satisfied: colorama in c:\\users\\ousjl\\appdata\\local\\programs\\python\\python38\\lib\\site-packages (from tqdm->stable-baselines3[extra]==2.1.0) (0.4.5)\n",
            "Requirement already satisfied: cachetools<6.0,>=2.0.0 in c:\\users\\ousjl\\appdata\\local\\programs\\python\\python38\\lib\\site-packages (from google-auth<3,>=1.6.3->tensorboard>=2.9.1->stable-baselines3[extra]==2.1.0) (5.2.0)\n",
            "Requirement already satisfied: pyasn1-modules>=0.2.1 in c:\\users\\ousjl\\appdata\\local\\programs\\python\\python38\\lib\\site-packages (from google-auth<3,>=1.6.3->tensorboard>=2.9.1->stable-baselines3[extra]==2.1.0) (0.2.8)\n",
            "Requirement already satisfied: six>=1.9.0 in c:\\users\\ousjl\\appdata\\local\\programs\\python\\python38\\lib\\site-packages (from google-auth<3,>=1.6.3->tensorboard>=2.9.1->stable-baselines3[extra]==2.1.0) (1.16.0)\n",
            "Requirement already satisfied: rsa<5,>=3.1.4 in c:\\users\\ousjl\\appdata\\local\\programs\\python\\python38\\lib\\site-packages (from google-auth<3,>=1.6.3->tensorboard>=2.9.1->stable-baselines3[extra]==2.1.0) (4.9)\n",
            "Requirement already satisfied: requests-oauthlib>=0.7.0 in c:\\users\\ousjl\\appdata\\local\\programs\\python\\python38\\lib\\site-packages (from google-auth-oauthlib<0.5,>=0.4.1->tensorboard>=2.9.1->stable-baselines3[extra]==2.1.0) (1.3.1)\n",
            "Requirement already satisfied: zipp>=0.5 in c:\\users\\ousjl\\appdata\\local\\programs\\python\\python38\\lib\\site-packages (from importlib-metadata>=4.8.0->gymnasium<0.30,>=0.28.1->stable-baselines3==2.1.0->stable-baselines3[extra]==2.1.0) (3.8.1)\n",
            "Requirement already satisfied: mdurl~=0.1 in c:\\users\\ousjl\\appdata\\local\\programs\\python\\python38\\lib\\site-packages (from markdown-it-py>=2.2.0->rich->stable-baselines3[extra]==2.1.0) (0.1.2)\n",
            "Requirement already satisfied: charset-normalizer<3,>=2 in c:\\users\\ousjl\\appdata\\local\\programs\\python\\python38\\lib\\site-packages (from requests->autorom~=0.6.1->autorom[accept-rom-license]~=0.6.1; extra == \"extra\"->stable-baselines3[extra]==2.1.0) (2.1.0)\n",
            "Requirement already satisfied: idna<4,>=2.5 in c:\\users\\ousjl\\appdata\\local\\programs\\python\\python38\\lib\\site-packages (from requests->autorom~=0.6.1->autorom[accept-rom-license]~=0.6.1; extra == \"extra\"->stable-baselines3[extra]==2.1.0) (3.3)\n",
            "Requirement already satisfied: urllib3<1.27,>=1.21.1 in c:\\users\\ousjl\\appdata\\local\\programs\\python\\python38\\lib\\site-packages (from requests->autorom~=0.6.1->autorom[accept-rom-license]~=0.6.1; extra == \"extra\"->stable-baselines3[extra]==2.1.0) (1.26.11)\n",
            "Requirement already satisfied: MarkupSafe>=2.1.1 in c:\\users\\ousjl\\appdata\\local\\programs\\python\\python38\\lib\\site-packages (from werkzeug>=1.0.1->tensorboard>=2.9.1->stable-baselines3[extra]==2.1.0) (2.1.1)\n",
            "Requirement already satisfied: pyasn1<0.5.0,>=0.4.6 in c:\\users\\ousjl\\appdata\\local\\programs\\python\\python38\\lib\\site-packages (from pyasn1-modules>=0.2.1->google-auth<3,>=1.6.3->tensorboard>=2.9.1->stable-baselines3[extra]==2.1.0) (0.4.8)\n",
            "Requirement already satisfied: oauthlib>=3.0.0 in c:\\users\\ousjl\\appdata\\local\\programs\\python\\python38\\lib\\site-packages (from requests-oauthlib>=0.7.0->google-auth-oauthlib<0.5,>=0.4.1->tensorboard>=2.9.1->stable-baselines3[extra]==2.1.0) (3.2.2)\n"
          ]
        },
        {
          "output_type": "stream",
          "name": "stderr",
          "text": [
            "WARNING: Ignoring invalid distribution -illow (c:\\users\\ousjl\\appdata\\local\\programs\\python\\python38\\lib\\site-packages)\n",
            "WARNING: Ignoring invalid distribution -illow (c:\\users\\ousjl\\appdata\\local\\programs\\python\\python38\\lib\\site-packages)\n"
          ]
        },
        {
          "output_type": "stream",
          "name": "stdout",
          "text": [
            "Requirement already satisfied: pyserial in c:\\users\\ousjl\\appdata\\local\\programs\\python\\python38\\lib\\site-packages (3.5)\n"
          ]
        },
        {
          "output_type": "stream",
          "name": "stderr",
          "text": [
            "WARNING: Ignoring invalid distribution -illow (c:\\users\\ousjl\\appdata\\local\\programs\\python\\python38\\lib\\site-packages)\n",
            "WARNING: Ignoring invalid distribution -illow (c:\\users\\ousjl\\appdata\\local\\programs\\python\\python38\\lib\\site-packages)\n"
          ]
        }
      ]
    },
    {
      "cell_type": "code",
      "source": [
        "# Import Modules\n",
        "import gymnasium as gym\n",
        "import stable_baselines3 as sb3\n",
        "from gymnasium import spaces\n",
        "\n",
        "\n",
        "import numpy as np\n",
        "import pygame\n",
        "import time\n",
        "import json\n",
        "\n",
        "import serial\n",
        "import serial.tools.list_ports\n",
        "import time"
      ],
      "metadata": {
        "id": "zXy-vS1UpNrv",
        "colab": {
          "base_uri": "https://localhost:8080/"
        },
        "outputId": "0de355ee-b3c2-46bf-c8dc-b5da45985c6f"
      },
      "execution_count": null,
      "outputs": [
        {
          "output_type": "stream",
          "name": "stderr",
          "text": [
            "c:\\users\\ousjl\\appdata\\local\\programs\\python\\python38\\lib\\site-packages\\tqdm\\auto.py:22: TqdmWarning: IProgress not found. Please update jupyter and ipywidgets. See https://ipywidgets.readthedocs.io/en/stable/user_install.html\n",
            "  from .autonotebook import tqdm as notebook_tqdm\n"
          ]
        }
      ]
    },
    {
      "cell_type": "code",
      "source": [
        "# Vairbales and Constants :\n",
        "\n",
        "STP_ACTIONS_MAP = {\n",
        "    0: -100,\n",
        "    1: 0,\n",
        "    2: 100,\n",
        "                  }\n",
        "\n",
        "STM_ResponseTimeout = 150"
      ],
      "metadata": {
        "id": "qv52cz7uz50i"
      },
      "execution_count": null,
      "outputs": []
    },
    {
      "cell_type": "markdown",
      "source": [
        "# Test Block for Json parsing :\n"
      ],
      "metadata": {
        "id": "IHp7uRT_MrA8"
      }
    },
    {
      "cell_type": "code",
      "source": [
        "msg = \"{ \\\"message\\\": \\\"Hello, world!\\\", \\\"sender\\\": \\\"John Doe\\\", \\\"timestamp\\\": \\\"2024-01-22T12:34:56\\\" }\"\n",
        "obs = json.loads(msg)\n",
        "print (obs['message'])"
      ],
      "metadata": {
        "colab": {
          "base_uri": "https://localhost:8080/"
        },
        "id": "telmL71gNDJ0",
        "outputId": "aaa5f77f-f096-4605-bfe0-dcc019061603"
      },
      "execution_count": null,
      "outputs": [
        {
          "output_type": "stream",
          "name": "stdout",
          "text": [
            "Hello, world!\n"
          ]
        }
      ]
    },
    {
      "cell_type": "markdown",
      "source": [
        "## Test for serial communcation  \n",
        "\n"
      ],
      "metadata": {
        "id": "jpsFfJ_cdtjm"
      }
    },
    {
      "cell_type": "code",
      "source": [
        "serial_list = []\n",
        "for port, desc, hwid in serial.tools.list_ports.comports():\n",
        "  serial_attrs = (port, desc, hwid)\n",
        "  serial_list.append(serial_attrs)\n",
        "  print(serial_list)"
      ],
      "metadata": {
        "id": "DM_VGf8XdwW6"
      },
      "execution_count": null,
      "outputs": []
    },
    {
      "cell_type": "markdown",
      "source": [
        "## Low Level communication Class"
      ],
      "metadata": {
        "id": "UpR-S6sL_C74"
      }
    },
    {
      "cell_type": "code",
      "source": [
        "class LowLevelCommunication :\n",
        "  def __init__(self , Port , Baudrate) -> bool:\n",
        "    self.STM32 = serial.Serial(dsrdtr=False)\n",
        "    self.STM32.port = Port\n",
        "    self.STM32.baudrate = Baudrate\n",
        "    self.STM32.rts = False\n",
        "    self.STM32.dtr = False\n",
        "    self.STM32.close()\n",
        "    time.sleep(1)\n",
        "    self.STM32.open()\n",
        "    print(\"Open\")\n",
        "\n",
        "  def sendCommand (self , Command) :\n",
        "    cmd = f\"{Command}\"\n",
        "    self.STM32.write(bytes(cmd,encoding='utf-8'))\n",
        "  def waitResponse (self , Timeout) :\n",
        "    timestamp = time.time()\n",
        "    while (self.STM32.in_waiting == 0) :\n",
        "      time.sleep(1)\n",
        "      if ( timestamp - time.time() > Timeout ) :\n",
        "\n",
        "        print (\"No return from LowLevel\")\n",
        "        self.EndCommunication()\n",
        "        return\n",
        "    response = self.STM32.read_until('\\n'.encode('utf-8'))\n",
        "    response =response.decode('utf-8')\n",
        "    observation = json.loads(response)\n",
        "    return observation\n",
        "  def EndCommunication (self) :\n",
        "    self.STM32.close()\n"
      ],
      "metadata": {
        "id": "7Bi1wj35-9He"
      },
      "execution_count": null,
      "outputs": []
    },
    {
      "cell_type": "code",
      "source": [
        "class RobotOrientation (gym.Env) :\n",
        "  def __init__(self , Port , Baudrate , WheelRadius , RobotSpacing) -> None:\n",
        "    super().__init__()\n",
        "    self.Port = Port\n",
        "    self.Baudrate = Baudrate\n",
        "    self.WheelRadius = WheelRadius\n",
        "    self.RobotSpacing = RobotSpacing\n",
        "    self.STM32 = LowLevelCommunication ( self.Port , self.Baudrate )\n",
        "\n",
        "# Test for raw data communication :\n",
        "# Robot = RobotOrientation(\"COM13\" , 115200 , 10 , 15)\n",
        "# ===> Working Fine with Local runtime connected.\n",
        "\n",
        "    self.action_space = gym.spaces.Discrete( len(STP_ACTIONS_MAP) )\n",
        "    # Observations are CurrentRobotAngle, CurrentRightWheelVelocity , CurrentLeftWheelvelocity\n",
        "    self.observation_space = gym.spaces.Box(\n",
        "            low=np.array([-180, -np.inf , -np.inf]),\n",
        "            high=np.array([180,  np.inf ,  np.inf]),\n",
        "            dtype=np.float32\n",
        "        )\n",
        "\n",
        "    self.RightWheelTicksPrev = 0\n",
        "    self.LeftWheelTicksPrev = 0\n",
        "    self.CurrentAngle = 0\n",
        "\n",
        "  def __del__ (self) :\n",
        "    self.STM32.EndCommunication()\n",
        "\n",
        "  def step (self , action) :\n",
        "    for counter in range (5) :\n",
        "      self.STM32.sendCommand (5)\n",
        "    obs = self.STM32.waitResponse(STM_ResponseTimeout)\n",
        "\n",
        "    result = (obs['STM32TimeStamp'] , obs ['Terminated'] , obs ['CurrentRobotAngle'] , obs ['CurrentRightWheelVelocity'] , obs ['CurrentRightWheelVelocity'] )\n",
        "    return (result)\n",
        "\n",
        "# Testing The data exchange :\n",
        "Robot = RobotOrientation(\"COM13\" , 115200 , 10 , 15)\n",
        "Robot.step(10)"
      ],
      "metadata": {
        "id": "MiGAgiTUJ6w3",
        "colab": {
          "base_uri": "https://localhost:8080/"
        },
        "outputId": "3dbff86d-5ec4-401e-8949-3d49fa4fcd32"
      },
      "execution_count": null,
      "outputs": [
        {
          "output_type": "stream",
          "name": "stdout",
          "text": [
            "Open\n"
          ]
        },
        {
          "output_type": "execute_result",
          "data": {
            "text/plain": [
              "(255.0, 0.0, 92.300003, -233.300003, -233.300003)"
            ]
          },
          "metadata": {},
          "execution_count": 9
        }
      ]
    },
    {
      "cell_type": "code",
      "source": [],
      "metadata": {
        "id": "DYjZEku3-6vC"
      },
      "execution_count": null,
      "outputs": []
    }
  ]
}