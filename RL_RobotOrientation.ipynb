{
  "nbformat": 4,
  "nbformat_minor": 0,
  "metadata": {
    "colab": {
      "provenance": [],
      "authorship_tag": "ABX9TyOcQgqOOGQ9vYiipEK/l7XP",
      "include_colab_link": true
    },
    "kernelspec": {
      "name": "python3",
      "display_name": "Python 3"
    },
    "language_info": {
      "name": "python"
    }
  },
  "cells": [
    {
      "cell_type": "markdown",
      "metadata": {
        "id": "view-in-github",
        "colab_type": "text"
      },
      "source": [
        "<a href=\"https://colab.research.google.com/github/oussemajelassi/embedded_ReinforcementLearning/blob/main/RL_RobotOrientation.ipynb\" target=\"_parent\"><img src=\"https://colab.research.google.com/assets/colab-badge.svg\" alt=\"Open In Colab\"/></a>"
      ]
    },
    {
      "cell_type": "markdown",
      "source": [
        "# This project aims to perform robot orientation using RL"
      ],
      "metadata": {
        "id": "iyZk28jsoCfl"
      }
    },
    {
      "cell_type": "code",
      "source": [
        "# Install required modules\n",
        "!python -m pip install gymnasium==0.28.1\n",
        "!python -m pip install stable-baselines3[extra]==2.1.0\n",
        "!python -m pip install pyserial"
      ],
      "metadata": {
        "colab": {
          "base_uri": "https://localhost:8080/"
        },
        "id": "LIyKCqsSoqm6",
        "outputId": "67fad861-4a17-4b17-8e0b-4b9e83777bf6"
      },
      "execution_count": null,
      "outputs": [
        {
          "output_type": "stream",
          "name": "stdout",
          "text": [
            "Requirement already satisfied: gymnasium==0.28.1 in c:\\users\\ousjl\\appdata\\local\\programs\\python\\python38\\lib\\site-packages (0.28.1)\n",
            "Requirement already satisfied: numpy>=1.21.0 in c:\\users\\ousjl\\appdata\\local\\programs\\python\\python38\\lib\\site-packages (from gymnasium==0.28.1) (1.23.4)\n",
            "Requirement already satisfied: jax-jumpy>=1.0.0 in c:\\users\\ousjl\\appdata\\local\\programs\\python\\python38\\lib\\site-packages (from gymnasium==0.28.1) (1.0.0)\n",
            "Requirement already satisfied: cloudpickle>=1.2.0 in c:\\users\\ousjl\\appdata\\local\\programs\\python\\python38\\lib\\site-packages (from gymnasium==0.28.1) (3.0.0)\n",
            "Requirement already satisfied: typing-extensions>=4.3.0 in c:\\users\\ousjl\\appdata\\local\\programs\\python\\python38\\lib\\site-packages (from gymnasium==0.28.1) (4.3.0)\n",
            "Requirement already satisfied: farama-notifications>=0.0.1 in c:\\users\\ousjl\\appdata\\local\\programs\\python\\python38\\lib\\site-packages (from gymnasium==0.28.1) (0.0.4)\n",
            "Requirement already satisfied: importlib-metadata>=4.8.0 in c:\\users\\ousjl\\appdata\\local\\programs\\python\\python38\\lib\\site-packages (from gymnasium==0.28.1) (4.12.0)\n",
            "Requirement already satisfied: zipp>=0.5 in c:\\users\\ousjl\\appdata\\local\\programs\\python\\python38\\lib\\site-packages (from importlib-metadata>=4.8.0->gymnasium==0.28.1) (3.8.1)\n"
          ]
        },
        {
          "output_type": "stream",
          "name": "stderr",
          "text": [
            "WARNING: Ignoring invalid distribution -illow (c:\\users\\ousjl\\appdata\\local\\programs\\python\\python38\\lib\\site-packages)\n",
            "WARNING: Ignoring invalid distribution -illow (c:\\users\\ousjl\\appdata\\local\\programs\\python\\python38\\lib\\site-packages)\n",
            "\n",
            "[notice] A new release of pip is available: 23.3.2 -> 24.0\n",
            "[notice] To update, run: python.exe -m pip install --upgrade pip\n"
          ]
        },
        {
          "output_type": "stream",
          "name": "stdout",
          "text": [
            "Requirement already satisfied: stable-baselines3==2.1.0 in c:\\users\\ousjl\\appdata\\local\\programs\\python\\python38\\lib\\site-packages (from stable-baselines3[extra]==2.1.0) (2.1.0)\n",
            "Requirement already satisfied: gymnasium<0.30,>=0.28.1 in c:\\users\\ousjl\\appdata\\local\\programs\\python\\python38\\lib\\site-packages (from stable-baselines3==2.1.0->stable-baselines3[extra]==2.1.0) (0.28.1)\n",
            "Requirement already satisfied: numpy>=1.20 in c:\\users\\ousjl\\appdata\\local\\programs\\python\\python38\\lib\\site-packages (from stable-baselines3==2.1.0->stable-baselines3[extra]==2.1.0) (1.23.4)\n",
            "Requirement already satisfied: torch>=1.13 in c:\\users\\ousjl\\appdata\\local\\programs\\python\\python38\\lib\\site-packages (from stable-baselines3==2.1.0->stable-baselines3[extra]==2.1.0) (1.13.0)\n",
            "Requirement already satisfied: cloudpickle in c:\\users\\ousjl\\appdata\\local\\programs\\python\\python38\\lib\\site-packages (from stable-baselines3==2.1.0->stable-baselines3[extra]==2.1.0) (3.0.0)\n",
            "Requirement already satisfied: pandas in c:\\users\\ousjl\\appdata\\local\\programs\\python\\python38\\lib\\site-packages (from stable-baselines3==2.1.0->stable-baselines3[extra]==2.1.0) (1.4.3)\n",
            "Requirement already satisfied: matplotlib in c:\\users\\ousjl\\appdata\\local\\programs\\python\\python38\\lib\\site-packages (from stable-baselines3==2.1.0->stable-baselines3[extra]==2.1.0) (3.3.2)\n",
            "Requirement already satisfied: opencv-python in c:\\users\\ousjl\\appdata\\local\\programs\\python\\python38\\lib\\site-packages (from stable-baselines3[extra]==2.1.0) (4.6.0.66)\n",
            "Requirement already satisfied: pygame in c:\\users\\ousjl\\appdata\\local\\programs\\python\\python38\\lib\\site-packages (from stable-baselines3[extra]==2.1.0) (2.5.2)\n",
            "Requirement already satisfied: tensorboard>=2.9.1 in c:\\users\\ousjl\\appdata\\local\\programs\\python\\python38\\lib\\site-packages (from stable-baselines3[extra]==2.1.0) (2.10.1)\n",
            "Requirement already satisfied: psutil in c:\\users\\ousjl\\appdata\\local\\programs\\python\\python38\\lib\\site-packages (from stable-baselines3[extra]==2.1.0) (5.9.1)\n",
            "Requirement already satisfied: tqdm in c:\\users\\ousjl\\appdata\\local\\programs\\python\\python38\\lib\\site-packages (from stable-baselines3[extra]==2.1.0) (4.64.0)\n",
            "Requirement already satisfied: rich in c:\\users\\ousjl\\appdata\\local\\programs\\python\\python38\\lib\\site-packages (from stable-baselines3[extra]==2.1.0) (13.7.0)\n",
            "Requirement already satisfied: shimmy~=1.1.0 in c:\\users\\ousjl\\appdata\\local\\programs\\python\\python38\\lib\\site-packages (from shimmy[atari]~=1.1.0; extra == \"extra\"->stable-baselines3[extra]==2.1.0) (1.1.0)\n",
            "Requirement already satisfied: pillow in c:\\users\\ousjl\\appdata\\local\\programs\\python\\python38\\lib\\site-packages (from stable-baselines3[extra]==2.1.0) (9.3.0)\n",
            "Requirement already satisfied: autorom~=0.6.1 in c:\\users\\ousjl\\appdata\\local\\programs\\python\\python38\\lib\\site-packages (from autorom[accept-rom-license]~=0.6.1; extra == \"extra\"->stable-baselines3[extra]==2.1.0) (0.6.1)\n",
            "Requirement already satisfied: click in c:\\users\\ousjl\\appdata\\local\\programs\\python\\python38\\lib\\site-packages (from autorom~=0.6.1->autorom[accept-rom-license]~=0.6.1; extra == \"extra\"->stable-baselines3[extra]==2.1.0) (8.1.7)\n",
            "Requirement already satisfied: requests in c:\\users\\ousjl\\appdata\\local\\programs\\python\\python38\\lib\\site-packages (from autorom~=0.6.1->autorom[accept-rom-license]~=0.6.1; extra == \"extra\"->stable-baselines3[extra]==2.1.0) (2.28.1)\n",
            "Requirement already satisfied: importlib-resources in c:\\users\\ousjl\\appdata\\local\\programs\\python\\python38\\lib\\site-packages (from autorom~=0.6.1->autorom[accept-rom-license]~=0.6.1; extra == \"extra\"->stable-baselines3[extra]==2.1.0) (5.9.0)\n",
            "Requirement already satisfied: AutoROM.accept-rom-license in c:\\users\\ousjl\\appdata\\local\\programs\\python\\python38\\lib\\site-packages (from autorom[accept-rom-license]~=0.6.1; extra == \"extra\"->stable-baselines3[extra]==2.1.0) (0.6.1)\n",
            "Requirement already satisfied: jax-jumpy>=1.0.0 in c:\\users\\ousjl\\appdata\\local\\programs\\python\\python38\\lib\\site-packages (from gymnasium<0.30,>=0.28.1->stable-baselines3==2.1.0->stable-baselines3[extra]==2.1.0) (1.0.0)\n",
            "Requirement already satisfied: typing-extensions>=4.3.0 in c:\\users\\ousjl\\appdata\\local\\programs\\python\\python38\\lib\\site-packages (from gymnasium<0.30,>=0.28.1->stable-baselines3==2.1.0->stable-baselines3[extra]==2.1.0) (4.3.0)\n",
            "Requirement already satisfied: farama-notifications>=0.0.1 in c:\\users\\ousjl\\appdata\\local\\programs\\python\\python38\\lib\\site-packages (from gymnasium<0.30,>=0.28.1->stable-baselines3==2.1.0->stable-baselines3[extra]==2.1.0) (0.0.4)\n",
            "Requirement already satisfied: importlib-metadata>=4.8.0 in c:\\users\\ousjl\\appdata\\local\\programs\\python\\python38\\lib\\site-packages (from gymnasium<0.30,>=0.28.1->stable-baselines3==2.1.0->stable-baselines3[extra]==2.1.0) (4.12.0)\n",
            "Requirement already satisfied: ale-py~=0.8.1 in c:\\users\\ousjl\\appdata\\local\\programs\\python\\python38\\lib\\site-packages (from shimmy[atari]~=1.1.0; extra == \"extra\"->stable-baselines3[extra]==2.1.0) (0.8.1)\n",
            "Requirement already satisfied: absl-py>=0.4 in c:\\users\\ousjl\\appdata\\local\\programs\\python\\python38\\lib\\site-packages (from tensorboard>=2.9.1->stable-baselines3[extra]==2.1.0) (1.3.0)\n",
            "Requirement already satisfied: grpcio>=1.24.3 in c:\\users\\ousjl\\appdata\\local\\programs\\python\\python38\\lib\\site-packages (from tensorboard>=2.9.1->stable-baselines3[extra]==2.1.0) (1.50.0)\n",
            "Requirement already satisfied: google-auth<3,>=1.6.3 in c:\\users\\ousjl\\appdata\\local\\programs\\python\\python38\\lib\\site-packages (from tensorboard>=2.9.1->stable-baselines3[extra]==2.1.0) (2.14.1)\n",
            "Requirement already satisfied: google-auth-oauthlib<0.5,>=0.4.1 in c:\\users\\ousjl\\appdata\\local\\programs\\python\\python38\\lib\\site-packages (from tensorboard>=2.9.1->stable-baselines3[extra]==2.1.0) (0.4.6)\n",
            "Requirement already satisfied: markdown>=2.6.8 in c:\\users\\ousjl\\appdata\\local\\programs\\python\\python38\\lib\\site-packages (from tensorboard>=2.9.1->stable-baselines3[extra]==2.1.0) (3.4.1)\n",
            "Requirement already satisfied: protobuf<3.20,>=3.9.2 in c:\\users\\ousjl\\appdata\\local\\programs\\python\\python38\\lib\\site-packages (from tensorboard>=2.9.1->stable-baselines3[extra]==2.1.0) (3.19.6)\n",
            "Requirement already satisfied: setuptools>=41.0.0 in c:\\users\\ousjl\\appdata\\local\\programs\\python\\python38\\lib\\site-packages (from tensorboard>=2.9.1->stable-baselines3[extra]==2.1.0) (56.0.0)\n",
            "Requirement already satisfied: tensorboard-data-server<0.7.0,>=0.6.0 in c:\\users\\ousjl\\appdata\\local\\programs\\python\\python38\\lib\\site-packages (from tensorboard>=2.9.1->stable-baselines3[extra]==2.1.0) (0.6.1)\n",
            "Requirement already satisfied: tensorboard-plugin-wit>=1.6.0 in c:\\users\\ousjl\\appdata\\local\\programs\\python\\python38\\lib\\site-packages (from tensorboard>=2.9.1->stable-baselines3[extra]==2.1.0) (1.8.1)\n",
            "Requirement already satisfied: werkzeug>=1.0.1 in c:\\users\\ousjl\\appdata\\local\\programs\\python\\python38\\lib\\site-packages (from tensorboard>=2.9.1->stable-baselines3[extra]==2.1.0) (2.2.2)\n",
            "Requirement already satisfied: wheel>=0.26 in c:\\users\\ousjl\\appdata\\local\\programs\\python\\python38\\lib\\site-packages (from tensorboard>=2.9.1->stable-baselines3[extra]==2.1.0) (0.38.4)\n",
            "Requirement already satisfied: certifi>=2020.06.20 in c:\\users\\ousjl\\appdata\\local\\programs\\python\\python38\\lib\\site-packages (from matplotlib->stable-baselines3==2.1.0->stable-baselines3[extra]==2.1.0) (2022.6.15)\n",
            "Requirement already satisfied: cycler>=0.10 in c:\\users\\ousjl\\appdata\\local\\programs\\python\\python38\\lib\\site-packages (from matplotlib->stable-baselines3==2.1.0->stable-baselines3[extra]==2.1.0) (0.11.0)\n",
            "Requirement already satisfied: kiwisolver>=1.0.1 in c:\\users\\ousjl\\appdata\\local\\programs\\python\\python38\\lib\\site-packages (from matplotlib->stable-baselines3==2.1.0->stable-baselines3[extra]==2.1.0) (1.4.4)\n",
            "Requirement already satisfied: pyparsing!=2.0.4,!=2.1.2,!=2.1.6,>=2.0.3 in c:\\users\\ousjl\\appdata\\local\\programs\\python\\python38\\lib\\site-packages (from matplotlib->stable-baselines3==2.1.0->stable-baselines3[extra]==2.1.0) (3.0.9)\n",
            "Requirement already satisfied: python-dateutil>=2.1 in c:\\users\\ousjl\\appdata\\local\\programs\\python\\python38\\lib\\site-packages (from matplotlib->stable-baselines3==2.1.0->stable-baselines3[extra]==2.1.0) (2.8.2)\n",
            "Requirement already satisfied: pytz>=2020.1 in c:\\users\\ousjl\\appdata\\local\\programs\\python\\python38\\lib\\site-packages (from pandas->stable-baselines3==2.1.0->stable-baselines3[extra]==2.1.0) (2022.2.1)\n",
            "Requirement already satisfied: markdown-it-py>=2.2.0 in c:\\users\\ousjl\\appdata\\local\\programs\\python\\python38\\lib\\site-packages (from rich->stable-baselines3[extra]==2.1.0) (3.0.0)\n",
            "Requirement already satisfied: pygments<3.0.0,>=2.13.0 in c:\\users\\ousjl\\appdata\\local\\programs\\python\\python38\\lib\\site-packages (from rich->stable-baselines3[extra]==2.1.0) (2.13.0)\n",
            "Requirement already satisfied: colorama in c:\\users\\ousjl\\appdata\\local\\programs\\python\\python38\\lib\\site-packages (from tqdm->stable-baselines3[extra]==2.1.0) (0.4.5)\n",
            "Requirement already satisfied: cachetools<6.0,>=2.0.0 in c:\\users\\ousjl\\appdata\\local\\programs\\python\\python38\\lib\\site-packages (from google-auth<3,>=1.6.3->tensorboard>=2.9.1->stable-baselines3[extra]==2.1.0) (5.2.0)\n",
            "Requirement already satisfied: pyasn1-modules>=0.2.1 in c:\\users\\ousjl\\appdata\\local\\programs\\python\\python38\\lib\\site-packages (from google-auth<3,>=1.6.3->tensorboard>=2.9.1->stable-baselines3[extra]==2.1.0) (0.2.8)\n",
            "Requirement already satisfied: six>=1.9.0 in c:\\users\\ousjl\\appdata\\local\\programs\\python\\python38\\lib\\site-packages (from google-auth<3,>=1.6.3->tensorboard>=2.9.1->stable-baselines3[extra]==2.1.0) (1.16.0)\n",
            "Requirement already satisfied: rsa<5,>=3.1.4 in c:\\users\\ousjl\\appdata\\local\\programs\\python\\python38\\lib\\site-packages (from google-auth<3,>=1.6.3->tensorboard>=2.9.1->stable-baselines3[extra]==2.1.0) (4.9)\n",
            "Requirement already satisfied: requests-oauthlib>=0.7.0 in c:\\users\\ousjl\\appdata\\local\\programs\\python\\python38\\lib\\site-packages (from google-auth-oauthlib<0.5,>=0.4.1->tensorboard>=2.9.1->stable-baselines3[extra]==2.1.0) (1.3.1)\n",
            "Requirement already satisfied: zipp>=0.5 in c:\\users\\ousjl\\appdata\\local\\programs\\python\\python38\\lib\\site-packages (from importlib-metadata>=4.8.0->gymnasium<0.30,>=0.28.1->stable-baselines3==2.1.0->stable-baselines3[extra]==2.1.0) (3.8.1)\n",
            "Requirement already satisfied: mdurl~=0.1 in c:\\users\\ousjl\\appdata\\local\\programs\\python\\python38\\lib\\site-packages (from markdown-it-py>=2.2.0->rich->stable-baselines3[extra]==2.1.0) (0.1.2)\n",
            "Requirement already satisfied: charset-normalizer<3,>=2 in c:\\users\\ousjl\\appdata\\local\\programs\\python\\python38\\lib\\site-packages (from requests->autorom~=0.6.1->autorom[accept-rom-license]~=0.6.1; extra == \"extra\"->stable-baselines3[extra]==2.1.0) (2.1.0)\n",
            "Requirement already satisfied: idna<4,>=2.5 in c:\\users\\ousjl\\appdata\\local\\programs\\python\\python38\\lib\\site-packages (from requests->autorom~=0.6.1->autorom[accept-rom-license]~=0.6.1; extra == \"extra\"->stable-baselines3[extra]==2.1.0) (3.3)\n",
            "Requirement already satisfied: urllib3<1.27,>=1.21.1 in c:\\users\\ousjl\\appdata\\local\\programs\\python\\python38\\lib\\site-packages (from requests->autorom~=0.6.1->autorom[accept-rom-license]~=0.6.1; extra == \"extra\"->stable-baselines3[extra]==2.1.0) (1.26.11)\n",
            "Requirement already satisfied: MarkupSafe>=2.1.1 in c:\\users\\ousjl\\appdata\\local\\programs\\python\\python38\\lib\\site-packages (from werkzeug>=1.0.1->tensorboard>=2.9.1->stable-baselines3[extra]==2.1.0) (2.1.1)\n",
            "Requirement already satisfied: pyasn1<0.5.0,>=0.4.6 in c:\\users\\ousjl\\appdata\\local\\programs\\python\\python38\\lib\\site-packages (from pyasn1-modules>=0.2.1->google-auth<3,>=1.6.3->tensorboard>=2.9.1->stable-baselines3[extra]==2.1.0) (0.4.8)\n",
            "Requirement already satisfied: oauthlib>=3.0.0 in c:\\users\\ousjl\\appdata\\local\\programs\\python\\python38\\lib\\site-packages (from requests-oauthlib>=0.7.0->google-auth-oauthlib<0.5,>=0.4.1->tensorboard>=2.9.1->stable-baselines3[extra]==2.1.0) (3.2.2)\n"
          ]
        },
        {
          "output_type": "stream",
          "name": "stderr",
          "text": [
            "WARNING: Ignoring invalid distribution -illow (c:\\users\\ousjl\\appdata\\local\\programs\\python\\python38\\lib\\site-packages)\n",
            "WARNING: Ignoring invalid distribution -illow (c:\\users\\ousjl\\appdata\\local\\programs\\python\\python38\\lib\\site-packages)\n",
            "\n",
            "[notice] A new release of pip is available: 23.3.2 -> 24.0\n",
            "[notice] To update, run: python.exe -m pip install --upgrade pip\n"
          ]
        },
        {
          "output_type": "stream",
          "name": "stdout",
          "text": [
            "Requirement already satisfied: pyserial in c:\\users\\ousjl\\appdata\\local\\programs\\python\\python38\\lib\\site-packages (3.5)\n"
          ]
        },
        {
          "output_type": "stream",
          "name": "stderr",
          "text": [
            "WARNING: Ignoring invalid distribution -illow (c:\\users\\ousjl\\appdata\\local\\programs\\python\\python38\\lib\\site-packages)\n",
            "WARNING: Ignoring invalid distribution -illow (c:\\users\\ousjl\\appdata\\local\\programs\\python\\python38\\lib\\site-packages)\n",
            "\n",
            "[notice] A new release of pip is available: 23.3.2 -> 24.0\n",
            "[notice] To update, run: python.exe -m pip install --upgrade pip\n"
          ]
        }
      ]
    },
    {
      "cell_type": "code",
      "source": [
        "# Import Modules\n",
        "import gymnasium as gym\n",
        "import stable_baselines3 as sb3\n",
        "from gymnasium import spaces\n",
        "\n",
        "\n",
        "import numpy as np\n",
        "import pygame\n",
        "import time\n",
        "import json\n",
        "\n",
        "import serial\n",
        "import serial.tools.list_ports\n",
        "import time"
      ],
      "metadata": {
        "id": "zXy-vS1UpNrv"
      },
      "execution_count": null,
      "outputs": []
    },
    {
      "cell_type": "code",
      "source": [
        "# Vairbales and Constants :\n",
        "\n",
        "RL_DECREASE_PWM_VALUE = 0\n",
        "RL_PWM_VALUE_CONSTANT = 1\n",
        "RL_INCREASE_PWM_VALUE = 2\n",
        "RL_PWM_STOP_VALUE = 3\n",
        "\n",
        "ROBOT_ACTIONS_MAP = {\n",
        "    RL_DECREASE_PWM_VALUE: -100,\n",
        "    RL_PWM_VALUE_CONSTANT : 10,\n",
        "    RL_INCREASE_PWM_VALUE: 100,\n",
        "    RL_PWM_STOP_VALUE: 0\n",
        "                  }\n",
        "\n",
        "\n",
        "\n",
        "STM_ResponseTimeout                     = 30\n",
        "RL_TargetedOrientation                  = 90\n",
        "RL_OrientationNorm                      = 180\n",
        "\n",
        "RL_ROBOT_CRASH_REWARD                   = -200\n",
        "RL_ROBOT_ORIENTATION_DIVERGENCE         = -500\n",
        "RL_ROBOT_ORIENTED_REWARD                = 50\n",
        "\n",
        "RL_THETA_REWARD_CONSTANT                = 1\n",
        "RL_VELOCITY_REWARD_CONSTANT             = 0.1\n",
        "RL_VELOCITY_DIFFERENCE_REWARD_CONSTANT  = 0.1\n",
        "RL_ANGULAR_VELOCITY_REWARD_CONSTANT     = 0.25\n",
        "\n",
        "RL_DESIRED_ANGLE_RANGE                  = [ RL_TargetedOrientation - 10 , RL_TargetedOrientation + 10 ]\n",
        "RL_MINIMAL_ORIENTATION_ANGLE            = - 180\n",
        "RL_MAXIMAL_ORIENTATION_ANGLE            =   180\n",
        "\n",
        "RL_MAXIMUM_VELOCITY                     = 80\n",
        "RL_LOW_VELOCITY                         = 10"
      ],
      "metadata": {
        "id": "qv52cz7uz50i"
      },
      "execution_count": null,
      "outputs": []
    },
    {
      "cell_type": "markdown",
      "source": [
        "# Test Block for Json parsing :\n"
      ],
      "metadata": {
        "id": "IHp7uRT_MrA8"
      }
    },
    {
      "cell_type": "code",
      "source": [
        "msg = \"{ \\\"message\\\": \\\"Hello, world!\\\", \\\"sender\\\": \\\"John Doe\\\", \\\"timestamp\\\": \\\"2024-01-22T12:34:56\\\" }\"\n",
        "obs = json.loads(msg)\n",
        "print (obs['message'])"
      ],
      "metadata": {
        "colab": {
          "base_uri": "https://localhost:8080/"
        },
        "id": "telmL71gNDJ0",
        "outputId": "91dff026-fd76-4aca-81d0-a0db6de42983"
      },
      "execution_count": null,
      "outputs": [
        {
          "output_type": "stream",
          "name": "stdout",
          "text": [
            "Hello, world!\n"
          ]
        }
      ]
    },
    {
      "cell_type": "markdown",
      "source": [
        "## Test for serial communcation  \n",
        "\n"
      ],
      "metadata": {
        "id": "jpsFfJ_cdtjm"
      }
    },
    {
      "cell_type": "code",
      "source": [
        "serial_list = []\n",
        "for port, desc, hwid in serial.tools.list_ports.comports():\n",
        "  serial_attrs = (port, desc, hwid)\n",
        "  serial_list.append(serial_attrs)\n",
        "  print(serial_list)"
      ],
      "metadata": {
        "id": "DM_VGf8XdwW6",
        "colab": {
          "base_uri": "https://localhost:8080/"
        },
        "outputId": "6362ed9a-0dc1-4331-f951-86f3dc6a58ad"
      },
      "execution_count": null,
      "outputs": [
        {
          "output_type": "stream",
          "name": "stdout",
          "text": [
            "[('COM13', 'STMicroelectronics STLink Virtual COM Port (COM13)', 'USB VID:PID=0483:374E SER=004900283137511339383538 LOCATION=1-2:x.2')]\n"
          ]
        }
      ]
    },
    {
      "cell_type": "markdown",
      "source": [
        "## Low Level communication Class"
      ],
      "metadata": {
        "id": "UpR-S6sL_C74"
      }
    },
    {
      "cell_type": "code",
      "source": [
        "class LowLevelCommunication :\n",
        "  def __init__(self , Port , Baudrate) -> bool:\n",
        "    self.STM32 = serial.Serial(dsrdtr=False)\n",
        "    self.STM32.port = Port\n",
        "    self.STM32.baudrate = Baudrate\n",
        "    self.STM32.rts = False\n",
        "    self.STM32.dtr = False\n",
        "    self.STM32.close()\n",
        "    time.sleep(1)\n",
        "    self.STM32.open()\n",
        "    print(\"Open\")\n",
        "\n",
        "  def sendCommand (self , Command) :\n",
        "    cmd = f\"{Command}\"\n",
        "    self.STM32.write(bytes(cmd,encoding='utf-8'))\n",
        "  def waitResponse (self , Timeout) :\n",
        "    timestamp = time.time()\n",
        "    print(timestamp)\n",
        "    while (self.STM32.in_waiting == 0) :\n",
        "      time.sleep(1)\n",
        "      if ( (time.time() - timestamp) > Timeout ) :\n",
        "\n",
        "        print (\"No return from Low Level\")\n",
        "        self.EndCommunication()\n",
        "        return _ , False\n",
        "    response = self.STM32.read_until('\\n'.encode('utf-8'))\n",
        "    self.STM32\n",
        "    response =response.decode('utf-8')\n",
        "    observation = json.loads(response)\n",
        "    return observation , True\n",
        "  def EndCommunication (self) :\n",
        "    self.STM32.close()\n"
      ],
      "metadata": {
        "id": "7Bi1wj35-9He"
      },
      "execution_count": null,
      "outputs": []
    },
    {
      "cell_type": "code",
      "source": [
        "class RobotOrientation (gym.Env) :\n",
        "  def __init__(self , Port , Baudrate , WheelRadius , WheelBase) -> None:\n",
        "    super().__init__()\n",
        "    self.Port = Port\n",
        "    self.Baudrate = Baudrate\n",
        "    self.WheelRadius = WheelRadius\n",
        "    self.WheelBase = WheelBase\n",
        "    self.STM32 = LowLevelCommunication ( self.Port , self.Baudrate )\n",
        "    self.StartTime = time.time()\n",
        "\n",
        "# Test for raw data communication :\n",
        "# Robot = RobotOrientation(\"COM13\" , 115200 , 10 , 15)\n",
        "# ===> Working Fine with Local runtime connected.\n",
        "\n",
        "    self.action_space = gym.spaces.Discrete( len(ROBOT_ACTIONS_MAP) )\n",
        "    # Observations are CurrentRobotAngle, CurrentRightWheelVelocity , CurrentLeftWheelvelocity\n",
        "    self.observation_space = gym.spaces.Box(\n",
        "            low=np.array([-180, -np.inf , -np.inf]),\n",
        "            high=np.array([180,  np.inf ,  np.inf]),\n",
        "            dtype=np.float32\n",
        "        )\n",
        "\n",
        "## Attributes :\n",
        "\n",
        "    self.CurrentRightWheelVelocity  = 0\n",
        "    self.CurrentLeftWheelVelocity   = 0\n",
        "    self.CurrentAngle               = 0\n",
        "    self.CurrentAngularVelocity     = 0.0\n",
        "    self.CurrentVelocityDifference  = 0.0\n",
        "    self.Timestamp                  = 0\n",
        "\n",
        "  def __del__ (self) :\n",
        "    self.STM32.EndCommunication()\n",
        "\n",
        "  def reset (self) :\n",
        "    self.STM32.sendCommand(RL_PWM_STOP_VALUE)\n",
        "    self.CurrentAngle               = 0\n",
        "    self.CurrentAngularVelocity     = 0\n",
        "    self.CurrentLeftWheelVelocity   = 0\n",
        "    self.CurrentRightWheelVelocity  = 0\n",
        "\n",
        "  def step (self , action) :\n",
        "    terminated = False\n",
        "    truncated = False\n",
        "    reward = 0\n",
        "    info = {\"dtime\" : 0 , \" elapsedTime\" : 0 }\n",
        "    self.STM32.sendCommand (action)\n",
        "    observations , ret = self.STM32.waitResponse(STM_ResponseTimeout)\n",
        "    print(observations)\n",
        "    if ( ret == True ) :\n",
        "\n",
        "      ElapsedTime , terminated , self.CurrentAngle , self.CurrentRightWheelVelocity ,self.CurrentLeftWheelVelocity = (observations['STM32TimeStamp'] , observations ['Terminated'] , observations ['CurrentRobotAngle'] , observations ['CurrentRightWheelVelocity'] , observations ['CurrentLeftWheelVelocity'] )\n",
        "      info[\"dtime\"] = ElapsedTime - self.Timestamp\n",
        "      self.Timestamp = ElapsedTime\n",
        "      self.CurrentVelocityDifference = abs ( self.CurrentRightWheelVelocity - self.CurrentLeftWheelVelocity )\n",
        "      self.CurrentAngularVelocity = ( self.CurrentRightWheelVelocity - self.CurrentLeftWheelVelocity ) / self.WheelBase\n",
        "\n",
        "      obs [0] = self.CurrentAngle\n",
        "      obs [1] = self.CurrentRightWheelVelocity\n",
        "      obs [2] = self.CurrentLeftWheelVelocity\n",
        "      obs [3] = self.CurrentAngularVelocity\n",
        "      obs [4] = self.CurrentVelocityDifference\n",
        "\n",
        "      if (self.CurrentAngle > RL_MINIMAL_ORIENTATION_ANGLE ) or ( self.CurrentAngle < RL_MAXIMAL_ORIENTATION_ANGLE ) :\n",
        "        print(\"dkhalt lenna\")\n",
        "        reward += -1 * (  RL_THETA_REWARD_CONSTANT            * pow( ( obs [0] - RL_TargetedOrientation ) , 2 )\n",
        "                        + RL_VELOCITY_REWARD_CONSTANT         * pow( ( obs [1] ) , 2 )\n",
        "                        + RL_VELOCITY_REWARD_CONSTANT         * pow( ( obs [2] ) , 2 )\n",
        "                        + RL_ANGULAR_VELOCITY_REWARD_CONSTANT * pow( ( obs [3] ) , 2 ) )\n",
        "\n",
        "        if ( abs(self.CurrentAngularVelocity) > RL_MAXIMUM_VELOCITY ) :\n",
        "          print(\"dkhalt lenna 1 \")\n",
        "          terminated = True\n",
        "          self.STM32.sendCommand(RL_PWM_STOP_VALUE)\n",
        "          reward += RL_ROBOT_CRASH_REWARD\n",
        "          print(\"Robot Reached maximum Speed\")\n",
        "\n",
        "        elif (self.CurrentAngle in RL_DESIRED_ANGLE_RANGE ) and (self.CurrentAngularVelocity < RL_LOW_VELOCITY ):\n",
        "          print(\"dkhalt lenna  2\")\n",
        "          terminated = True\n",
        "          self.STM32.sendCommand(RL_PWM_STOP_VALUE)\n",
        "          reward += RL_ROBOT_ORIENTED_REWARD\n",
        "          print(\" Robot in Desired Orientation \")\n",
        "\n",
        "      else :\n",
        "        print(\"dkhalt lenna 3 \")\n",
        "        terminated = True\n",
        "        reward = RL_ROBOT_ORIENTATION_DIVERGENCE\n",
        "        self.STM32.sendCommand(RL_PWM_STOP_VALUE)\n",
        "        print(\" Robot orientation Diverged \")\n",
        "      print(\"Elapsed Time : \",time.time() - self.StartTime )\n",
        "      print ( \"terminated :\",terminated)\n",
        "\n",
        "\n",
        "\n",
        "# Testing The data exchange :\n",
        "Robot = RobotOrientation(\"COM13\" , 115200 , 10 , 15)\n",
        "Robot.step(10)\n",
        "Robot.__del__()"
      ],
      "metadata": {
        "id": "MiGAgiTUJ6w3",
        "colab": {
          "base_uri": "https://localhost:8080/"
        },
        "outputId": "d60ae1f1-278b-4bfc-b831-aed2ed779967"
      },
      "execution_count": null,
      "outputs": [
        {
          "output_type": "stream",
          "name": "stdout",
          "text": [
            "Open\n",
            "1708019195.8852253\n",
            "{'STM32TimeStamp': 1000, 'Terminated': 0, 'CurrentRobotAngle': 0.0, 'CurrentRightWheelVelocity': 200.0, 'CurrentLeftWheelVelocity': 100.0}\n",
            "dkhalt lenna\n",
            "Elapsed Time :  1.0112566947937012\n",
            "terminated : 0\n"
          ]
        }
      ]
    },
    {
      "cell_type": "code",
      "source": [],
      "metadata": {
        "id": "DYjZEku3-6vC"
      },
      "execution_count": null,
      "outputs": []
    }
  ]
}